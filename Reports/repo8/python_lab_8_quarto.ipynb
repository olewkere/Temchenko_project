{
 "cells": [
  {
   "cell_type": "markdown",
   "metadata": {},
   "source": [
    "---\n",
    "\"Лабораторна робота №8. Модулі, пакети та pip\"\n",
    "---"
   ]
  },
  {
   "cell_type": "markdown",
   "metadata": {},
   "source": [
    "__Мета:__ _навчитися імпортувати, користуватися, створювати модулі та пакети. Навчитися користуватися \"сирною крамницею\" PyPi та менеджером пакетів `pip`_"
   ]
  },
  {
   "cell_type": "markdown",
   "metadata": {},
   "source": [
    "### Завдання 1\n",
    "\n",
    "Створити модуль `module.py` та файл `main.py`, структура яких описана у лекції 9, повторишви кроки 1-10. "
   ]
  },
  {
   "cell_type": "code",
   "execution_count": 1,
   "metadata": {},
   "outputs": [
    {
     "name": "stdout",
     "output_type": "stream",
     "text": [
      "I prefer to be a module, but I can do some tests for you.\n",
      "True\n",
      "True\n"
     ]
    }
   ],
   "source": [
    "__counter = 0\n",
    "\n",
    "def suml(the_list):\n",
    "    global __counter\n",
    "    __counter += 1\n",
    "    the_sum = 0\n",
    "    for element in the_list:\n",
    "        the_sum += element\n",
    "    return the_sum\n",
    "\n",
    "def prodl(the_list):\n",
    "    global __counter\n",
    "    __counter += 1\n",
    "    prod = 1\n",
    "    for element in the_list:\n",
    "        prod *= element\n",
    "    return prod\n",
    "\n",
    "if __name__ == \"__main__\":\n",
    "    print(\"I prefer to be a module, but I can do some tests for you.\")\n",
    "    my_list = [i+1 for i in range(5)]\n",
    "    print(suml(my_list) == 15)\n",
    "    print(prodl(my_list) == 120)"
   ]
  },
  {
   "cell_type": "code",
   "execution_count": 15,
   "metadata": {},
   "outputs": [
    {
     "name": "stdout",
     "output_type": "stream",
     "text": [
      "0\n",
      "1\n"
     ]
    }
   ],
   "source": [
    "import first.myModule as myModule\n",
    "\n",
    "zeroes = [0 for i in range(5)]\n",
    "ones = [1 for i in range(5)]\n",
    "print(myModule.suml(zeroes))\n",
    "print(myModule.prodl(ones))\n"
   ]
  },
  {
   "cell_type": "markdown",
   "metadata": {},
   "source": [
    "## Створення пакета"
   ]
  },
  {
   "cell_type": "markdown",
   "metadata": {},
   "source": [
    "### Завдання 2\n",
    "\n",
    "Створити пакет `extra`, структура яких описана у лекції 9, повторишви кроки 1-7, завантаживши потрібні файли за наведеними нижче посиланнями:  \n",
    "\n",
    "[Modules and Packages ZIP file.zip](python_lab_8_quarto_files\\Modules and Packages ZIP file.zip)\n",
    "\n",
    "[Extrapack ZIP file.zip](python_lab_8_quarto_files\\Extrapack ZIP file.zip)\n",
    "\n"
   ]
  },
  {
   "cell_type": "code",
   "execution_count": 1,
   "metadata": {},
   "outputs": [
    {
     "name": "stdout",
     "output_type": "stream",
     "text": [
      "None\n",
      "Alpha\n",
      "None\n"
     ]
    }
   ],
   "source": [
    "import second.good.best.sigma as sig\n",
    "import second.good.alpha as alp\n",
    "\n",
    "from second.good.iota import funI\n",
    "\n",
    "print(funI())\n",
    "print(alp.funA())\n",
    "print(sig.funS())\n"
   ]
  },
  {
   "cell_type": "markdown",
   "metadata": {},
   "source": [
    "## Робота з менеджером пакетів `pip` "
   ]
  },
  {
   "cell_type": "markdown",
   "metadata": {},
   "source": [
    "Список основних команд `pip`:\n",
    "\n",
    "* `pip help operation` – показує короткий опис pip;\n",
    "* `pip list` – показує список встановлених пакетів;\n",
    "* `pip show package_name` – показує інформацію про package_name, включаючи залежність пакета;\n",
    "* `pip search anystring` – виконує пошук у каталогах PyPI, щоб знайти пакети, імена яких містять anystring;\n",
    "* `pip install name` – встановлює name у масштабі всієї системи (очікуйте проблем, якщо у Вас немає прав адміністратора);\n",
    "* `pip install` --user name – встановлює name лише для Вас; жоден інший користувач платформи не зможе його використовувати;\n",
    "* `pip install -U name` – оновлює раніше встановлений пакет;\n",
    "* `pip uninstall name` – видаляє встановлений раніше пакет."
   ]
  },
  {
   "cell_type": "markdown",
   "metadata": {},
   "source": [
    "### Завдання 3\n",
    "За допомогою менеджера пакетів `pip`: \n",
    "\n",
    "* вивести перелік встановлених на Вашому комп'ютері пакетів\n",
    "* знайти і встановити пакет `pygame`\n",
    "* вивести інформацію про `pygame`\n",
    "* запустити код, наведений нижче\n",
    "* деінсталювати пакет `pygame`"
   ]
  },
  {
   "cell_type": "markdown",
   "metadata": {},
   "source": [
    "![](images/1.png)\n",
    "\n",
    "Поперше мені треба оновити пакет. Оновлюю.\n",
    "\n",
    "![](images/2.png)\n",
    "\n",
    "Оновивши, переглядаю список пакетів.\n",
    "\n",
    "![](images/3.png)\n",
    "\n",
    "![](images/4.png)\n",
    "\n",
    "Встановлюю пакет pygame.\n",
    "\n",
    "![](images/5.png)\n",
    "\n",
    "Вивів інформацію про пакет.\n",
    "\n",
    "![](images/7.png)\n",
    "\n",
    "Запустив нижчи наведенний код.\n",
    "\n",
    "![](images/8.png)\n",
    "\n",
    "Видалив пакет pygame."
   ]
  },
  {
   "cell_type": "code",
   "execution_count": 2,
   "metadata": {},
   "outputs": [],
   "source": [
    "# import pygame\n",
    "\n",
    "# run = True\n",
    "# width = 400\n",
    "# height = 100\n",
    "# pygame.init()\n",
    "# screen = pygame.display.set_mode((width, height))\n",
    "# font = pygame.font.SysFont(None, 48)\n",
    "# text = font.render(\"Welcome to pygame\", True, (255, 255, 255))\n",
    "# screen.blit(text, ((width - text.get_width()) // 2, (height - text.get_height()) // 2))\n",
    "# pygame.display.flip()\n",
    "# while run:\n",
    "#     for event in pygame.event.get():\n",
    "#         if event.type == pygame.QUIT\\\n",
    "#         or event.type == pygame.MOUSEBUTTONUP\\\n",
    "#         or event.type == pygame.KEYUP:\n",
    "#             run = False"
   ]
  },
  {
   "cell_type": "markdown",
   "metadata": {
    "tags": []
   },
   "source": [
    "## Контрольні запитання\n",
    "\n",
    "1. Ви хочете заборонити користувачеві модуля запускати ваш код як звичайний скрипт. Як досягти такого ефекту? Написати код."
   ]
  },
  {
   "cell_type": "code",
   "execution_count": null,
   "metadata": {},
   "outputs": [],
   "source": [
    "if __name__ == '__main__':\n",
    "    print(\"with main script\")\n",
    "\n",
    "print(\"always\")"
   ]
  },
  {
   "cell_type": "markdown",
   "metadata": {},
   "source": [
    "1. Деякі додаткові та необхідні пакети зберігаються в каталозі D:\\Python\\Project\\Modules. Напишіть код, який забезпечує перегляд каталогу Python для пошуку всіх модулів. Написати код."
   ]
  },
  {
   "cell_type": "code",
   "execution_count": null,
   "metadata": {},
   "outputs": [],
   "source": [
    "import os\n",
    "\n",
    "directory_path = r'D:\\Python\\Project\\Modules' \n",
    "\n",
    "if os.path.isdir(directory_path):\n",
    "    for root, dirs, files in os.walk(directory_path):\n",
    "        for file in files:\n",
    "            if file.endswith('.py'):\n",
    "                print(file)"
   ]
  },
  {
   "cell_type": "markdown",
   "metadata": {},
   "source": [
    "1. Каталог, згаданий у попередній вправі, містить піддерево наступної структури:\n",
    "![image.png](attachment:86e1a674-a8b2-42f0-b244-17afaea5fbbf.png)  \n",
    "\n",
    "Припускаючи, що `D:\\Python\\Project\\Modules` був успішно доданий до списку `sys.path`, напишіть директиву імпорту, що дозволяє використовувати всі сутності з `mymodule`."
   ]
  },
  {
   "cell_type": "code",
   "execution_count": null,
   "metadata": {},
   "outputs": [],
   "source": [
    "from abc.def import mymodule "
   ]
  }
 ],
 "metadata": {
  "kernelspec": {
   "display_name": "Python 3 (ipykernel)",
   "language": "python",
   "name": "python3"
  },
  "language_info": {
   "codemirror_mode": {
    "name": "ipython",
    "version": 3
   },
   "file_extension": ".py",
   "mimetype": "text/x-python",
   "name": "python",
   "nbconvert_exporter": "python",
   "pygments_lexer": "ipython3",
   "version": "3.11.4"
  }
 },
 "nbformat": 4,
 "nbformat_minor": 4
}
