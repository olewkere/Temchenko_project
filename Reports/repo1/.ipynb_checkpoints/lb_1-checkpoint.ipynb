{
 "cells": [
  {
   "cell_type": "markdown",
   "id": "4960544a-e127-4da4-aeab-821f2f8d267a",
   "metadata": {
    "tags": []
   },
   "source": [
    "# Лабораторна робота №1\n"
   ]
  },
  {
   "cell_type": "markdown",
   "id": "b55a1921-38b0-4d88-b38a-fa526a622eb5",
   "metadata": {
    "tags": []
   },
   "source": [
    "## 1. Завантаження Python, PyCharm, Git."
   ]
  },
  {
   "cell_type": "markdown",
   "id": "c8bf3a2e-6afd-43d5-adcd-7689c2299ba9",
   "metadata": {},
   "source": [
    "Заходжу на офіційний сайт заватажння Python і завантжую останню версію. При встановленні вказую необхідні мені налаштуавння. Аналогічно і з іншим програмним забезпеченням. Після встановлення переходжу для налаштування зв'язку."
   ]
  },
  {
   "cell_type": "markdown",
   "id": "de4cb41e-bf3f-404f-b0b6-78be5d63ded4",
   "metadata": {
    "jp-MarkdownHeadingCollapsed": true,
    "tags": []
   },
   "source": [
    "## 2. Створення репозиторія в GitHub, створення проекту в PyCharm та ініціалізація Git."
   ]
  },
  {
   "cell_type": "markdown",
   "id": "b122b792-c41f-419b-8d2a-a223104ca451",
   "metadata": {},
   "source": [
    "Ось маю аккаунт на GitHub та створюю репозиторій:\n",
    "\n",
    "![](images/1.png)\n",
    "\n",
    "Створив проект в PyCharm і написав вивід:\n",
    "\n",
    "![](images/2.png)\n",
    "\n",
    "Зв'язуємо тепер наш порект з репозиторієм. Перейдемо в папку з нашим проектом. Після встановлення Git на ЛКМ дступна функція \"Bush here\" використовуючи її ініціалізуємо Гіт відповідною командою:\n",
    "\n",
    "![](images/3.png)\n",
    "\n",
    "І маємо таку картину."
   ]
  },
  {
   "cell_type": "markdown",
   "id": "c4ba6009-f92e-412d-b0ac-279e6bcbdfd1",
   "metadata": {},
   "source": []
  }
 ],
 "metadata": {
  "kernelspec": {
   "display_name": "Python 3 (ipykernel)",
   "language": "python",
   "name": "python3"
  },
  "language_info": {
   "codemirror_mode": {
    "name": "ipython",
    "version": 3
   },
   "file_extension": ".py",
   "mimetype": "text/x-python",
   "name": "python",
   "nbconvert_exporter": "python",
   "pygments_lexer": "ipython3",
   "version": "3.11.4"
  }
 },
 "nbformat": 4,
 "nbformat_minor": 5
}
