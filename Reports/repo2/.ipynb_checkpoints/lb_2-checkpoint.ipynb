{
 "cells": [
  {
   "cell_type": "markdown",
   "id": "11c190ea-a651-4113-95b0-90579e18942f",
   "metadata": {
    "tags": []
   },
   "source": [
    "# Лабораторна робота №2\n",
    "\n",
    "## №1. \n",
    "В першому завдані нічого складого: командою print() виводимо потрібні нам речення."
   ]
  },
  {
   "cell_type": "code",
   "execution_count": 4,
   "id": "3c70a85c-66d0-41e1-85f5-fddd726e2538",
   "metadata": {
    "tags": []
   },
   "outputs": [
    {
     "name": "stdout",
     "output_type": "stream",
     "text": [
      "Programming Essential in\n",
      "Python\n",
      "\n"
     ]
    }
   ],
   "source": [
    "print(\"Programming\", \"Essential\", \"in\")\n",
    "print(\"Python\\n\")"
   ]
  },
  {
   "cell_type": "markdown",
   "id": "505e4e92-4ead-4012-86d7-274faf0463a7",
   "metadata": {},
   "source": [
    "## №2\n",
    "В другому нам потрібно вивести стрілочку з знаків. Я вирішив це функцією в якій є список котрий виводиться полнійно циклом:"
   ]
  },
  {
   "cell_type": "code",
   "execution_count": 5,
   "id": "4104749a-0df7-48e8-8556-c93a0ccf3157",
   "metadata": {
    "tags": []
   },
   "outputs": [
    {
     "name": "stdout",
     "output_type": "stream",
     "text": [
      "    *\n",
      "   * *\n",
      "  *   *\n",
      " *     *\n",
      "***   ***\n",
      "  *   *\n",
      "  *   *\n",
      "  *   *\n",
      "  *****\n",
      "\n"
     ]
    }
   ],
   "source": [
    "def print_arrow():\n",
    "    arrow= [\n",
    "        \"    *\",\n",
    "        \"   * *\",\n",
    "        \"  *   *\",\n",
    "        \" *     *\",\n",
    "        \"***   ***\",\n",
    "        \"  *   *\",\n",
    "        \"  *   *\",\n",
    "        \"  *   *\",\n",
    "        \"  *****\\n\",\n",
    "    ]\n",
    "    for line in arrow:\n",
    "        print(line)\n",
    "print_arrow()"
   ]
  },
  {
   "cell_type": "markdown",
   "id": "bc99f71c-6bc8-4f35-89b6-b20b5cf52620",
   "metadata": {},
   "source": [
    "## №3-4\n",
    "Третє завдання аналогічне до 1, а в четвертому все той ж print() разом з \\n:"
   ]
  },
  {
   "cell_type": "code",
   "execution_count": 9,
   "id": "1438db2b-86ce-4284-94a2-302261e2223e",
   "metadata": {
    "tags": []
   },
   "outputs": [
    {
     "name": "stdout",
     "output_type": "stream",
     "text": [
      "I'm student\n",
      "\n",
      "\"I'm\"\n",
      "\"\"learning\"\"\n",
      "\"\"\"Python!\"\"\"\n"
     ]
    }
   ],
   "source": [
    "print(\"I'm student\")\n",
    "print(\"\\n\\\"I'm\\\"\\n\\\"\\\"learning\\\"\\\"\\n\\\"\\\"\\\"Python!\\\"\\\"\\\"\")"
   ]
  },
  {
   "cell_type": "markdown",
   "id": "6b269cd3-0b96-46bc-81e0-c194a1e99cb3",
   "metadata": {},
   "source": [
    "## №5-6\n",
    "Треба перевести числа з восмирічного (500) та шестнадцятирічного (777) системи числень відповідно в десяткову:"
   ]
  },
  {
   "cell_type": "code",
   "execution_count": 10,
   "id": "2fee32fe-3bf8-40ed-b394-fe3823874173",
   "metadata": {
    "tags": []
   },
   "outputs": [
    {
     "name": "stdout",
     "output_type": "stream",
     "text": [
      "\n",
      "number 1 =  320  number 2 =  1911\n"
     ]
    }
   ],
   "source": [
    "number1 = 0o500\n",
    "number2 = 0x777\n",
    "print(\"\\nnumber 1 = \",number1,\" number 2 = \",number2)"
   ]
  },
  {
   "cell_type": "code",
   "execution_count": null,
   "id": "45e589d2-945f-4c46-b094-ec9e4a2d96a8",
   "metadata": {},
   "outputs": [],
   "source": []
  }
 ],
 "metadata": {
  "kernelspec": {
   "display_name": "Python 3 (ipykernel)",
   "language": "python",
   "name": "python3"
  },
  "language_info": {
   "codemirror_mode": {
    "name": "ipython",
    "version": 3
   },
   "file_extension": ".py",
   "mimetype": "text/x-python",
   "name": "python",
   "nbconvert_exporter": "python",
   "pygments_lexer": "ipython3",
   "version": "3.11.4"
  }
 },
 "nbformat": 4,
 "nbformat_minor": 5
}
