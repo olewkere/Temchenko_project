{
 "cells": [
  {
   "cell_type": "markdown",
   "id": "60d1c4b7-8840-45a2-97e3-3f18ff5e773c",
   "metadata": {},
   "source": [
    "# Лаборатона робота №3\n",
    "## №1\n",
    "В першому завдані нам треба написати програму, яка обчислює значення функції Гауса:"
   ]
  },
  {
   "cell_type": "code",
   "execution_count": 3,
   "id": "48eb6443-2232-4683-8269-6565aed799a4",
   "metadata": {
    "tags": []
   },
   "outputs": [
    {
     "name": "stdout",
     "output_type": "stream",
     "text": [
      "0.0021498989231048212\n"
     ]
    }
   ],
   "source": [
    "import math\n",
    "def gaus_func(x, m, s):\n",
    "    gaus = (1 / (s * math.sqrt(2 * math.pi))) * (math.e**(-((x - m)**2) / (2 * s**2)))\n",
    "    return gaus\n",
    "\n",
    "x = 16\n",
    "m = 63\n",
    "s = 23\n",
    "result1 = gaus_func(x, m, s)\n",
    "print(result1)"
   ]
  },
  {
   "cell_type": "markdown",
   "id": "76c9abd6-72d2-4201-80e0-ea6f65a4b9ca",
   "metadata": {},
   "source": [
    "де Х це наша зміна, m - зміна мю, s - сігма. Пишемо функцію використовуючи ці зміни, вона рахує нам У і повертає його значення. Потім ми це визначаємо змінній та показуємо на екран.\n",
    "\n",
    "## №2\n",
    "Друге завдання нам дає визначити суму яблук в дітей: "
   ]
  },
  {
   "cell_type": "code",
   "execution_count": 4,
   "id": "953e7bc0-a36d-43be-9059-630ec67ce837",
   "metadata": {
    "tags": []
   },
   "outputs": [
    {
     "name": "stdout",
     "output_type": "stream",
     "text": [
      "\n",
      "John has 3 apples, Mary has 5 apples, Adam has 6 apples.\n",
      "Total apples: 14 \n",
      "\n"
     ]
    }
   ],
   "source": [
    "john = 3\n",
    "mary = 5\n",
    "adam = 6\n",
    "total_apples = john+mary+adam\n",
    "print(\"\\nJohn has\", john, \"apples, Mary has\", mary, \"apples, Adam has\", adam, \"apples.\\nTotal apples:\", total_apples, \"\\n\")"
   ]
  },
  {
   "cell_type": "markdown",
   "id": "349c0f4e-67fd-4711-bdf5-407270f00102",
   "metadata": {},
   "source": [
    "## №3\n",
    "В третьому завдані ми переводимо милі в кілометри і навпаки:"
   ]
  },
  {
   "cell_type": "code",
   "execution_count": 5,
   "id": "901e7d53-33b5-4c1c-b364-32c185801a77",
   "metadata": {
    "tags": []
   },
   "outputs": [
    {
     "name": "stdout",
     "output_type": "stream",
     "text": [
      "7.38 miles is 11.88 kilometers\n",
      "12.25 kilometers is 7.61 miles\n"
     ]
    }
   ],
   "source": [
    "kilometers = 12.25\n",
    "miles = 7.38\n",
    "miles_to_kilometers = miles * 1.61\n",
    "kilometers_to_miles = kilometers / 1.61\n",
    "print(miles, \"miles is\", round(miles_to_kilometers, 2), \"kilometers\")\n",
    "print(kilometers, \"kilometers is\", round(kilometers_to_miles, 2), \"miles\")"
   ]
  },
  {
   "cell_type": "markdown",
   "id": "0f415984-879a-438b-b7bd-47e85d08b3c8",
   "metadata": {},
   "source": [
    "При переводі милі в кілометри ми множимо на 1.61, а при переводі навпаки - ділимо.\n",
    "\n",
    "## №4\n",
    "В четвертому завдані для підрахунку виразу я створив ліст де заисав значення Х, які мені були потрібні. Через цикл for перебираю кожний елемент в лісті та підставляю його в рівняння. Використав форматування при виводу."
   ]
  },
  {
   "cell_type": "code",
   "execution_count": 8,
   "id": "47564bb4-43d5-4e51-84c1-d5eeb8cb73c6",
   "metadata": {
    "tags": []
   },
   "outputs": [
    {
     "name": "stdout",
     "output_type": "stream",
     "text": [
      "For x = 0, y = -1\n",
      "For x = 1, y = 3\n",
      "For x = -1, y = -9\n"
     ]
    }
   ],
   "source": [
    "x = [0, 1, -1]\n",
    "for x in x:\n",
    "    y = 3 * x**3 - 2 * x**2 + 3 * x - 1\n",
    "    print(f\"For x = {x}, y = {y}\")"
   ]
  },
  {
   "cell_type": "markdown",
   "id": "a696534d-3209-4f55-a17e-7dcb557805c8",
   "metadata": {},
   "source": [
    "## №5\n",
    "Видалив непотрібні коментарі, перейменвав змінну a to hour:"
   ]
  },
  {
   "cell_type": "code",
   "execution_count": 9,
   "id": "5c2bf21f-3db1-47be-a4bc-4cc51ec08756",
   "metadata": {
    "tags": []
   },
   "outputs": [
    {
     "name": "stdout",
     "output_type": "stream",
     "text": [
      "Hours:  2\n",
      "Seconds in Hours:  7200\n",
      "Goodbye\n"
     ]
    }
   ],
   "source": [
    "# this program computes the number of seconds in a given number of hours\n",
    "hours = 2\n",
    "seconds = 3600\n",
    "print(\"Hours: \", hours)\n",
    "print(\"Seconds in Hours: \", hours * seconds)\n",
    "print(\"Goodbye\")"
   ]
  },
  {
   "cell_type": "markdown",
   "id": "9b26da7e-a696-498e-bce7-81641e745be1",
   "metadata": {},
   "source": [
    "## №6\n",
    "Далі створюємо шось типу калькулятора в консолі. даємо змінним тип float і через input користувач дає значення, котре присваюється змінній. Створюємо чисельні операції та перевірку ділення на 0. Для цього ми перевіряємо чи є наша друга змінна 0. Якщо ні то виводиться результат. І якщо так, от ми бачимо відповідну помилку."
   ]
  },
  {
   "cell_type": "code",
   "execution_count": 10,
   "id": "92845005-92d1-446d-9e2c-68d8908ec373",
   "metadata": {
    "tags": []
   },
   "outputs": [
    {
     "name": "stdin",
     "output_type": "stream",
     "text": [
      "Enter a float value for 'a':  1\n",
      "Enter a float value for 'b':  2\n"
     ]
    },
    {
     "name": "stdout",
     "output_type": "stream",
     "text": [
      "Addition result: 3.0\n",
      "Subtraction result: -1.0\n",
      "Multiplication result: 2.0\n",
      "Division result: 0.5\n",
      "\n",
      "That's all, folks!\n"
     ]
    }
   ],
   "source": [
    "a = float(input(\"Enter a float value for 'a': \"))\n",
    "b = float(input(\"Enter a float value for 'b': \"))\n",
    "add = a + b\n",
    "print(\"Addition result:\", add)\n",
    "sub = a - b\n",
    "print(\"Subtraction result:\", sub)\n",
    "multi = a * b\n",
    "print(\"Multiplication result:\", multi)\n",
    "if b != 0:\n",
    "    div = a / b\n",
    "    print(\"Division result:\", div)\n",
    "else:\n",
    "    print(\"Division by zero is not allowed!\")\n",
    "\n",
    "print(\"\\nThat's all, folks!\")"
   ]
  },
  {
   "cell_type": "markdown",
   "id": "b709e31b-4f71-4b78-8d8b-8d437b07c95d",
   "metadata": {},
   "source": [
    "## №7 \n",
    "Тут ми знову вирішуємо рівняння. Даємо аналогічним чинном як до попереднього завдання ввести користувачеві значення Х. В нашому випадку знову треба зробити перевірку на те чи Х = 0 або ні."
   ]
  },
  {
   "cell_type": "code",
   "execution_count": 11,
   "id": "0deb9478-84cf-4e6f-889a-511ddb7a9220",
   "metadata": {
    "tags": []
   },
   "outputs": [
    {
     "name": "stdin",
     "output_type": "stream",
     "text": [
      "\n",
      "Enter a float value for 'x':  10\n"
     ]
    },
    {
     "name": "stdout",
     "output_type": "stream",
     "text": [
      "Result: 0.09901951360184563\n"
     ]
    }
   ],
   "source": [
    "x = float(input(\"\\nEnter a float value for 'x': \"))\n",
    "if x != 0:\n",
    "    y = 1 / (x + (1 / (x + (1 / (x + (1 / (x + 1/x)))))))\n",
    "    print(\"Result:\", y)\n",
    "else:\n",
    "    print(\"X can't be a zero!\")"
   ]
  },
  {
   "cell_type": "markdown",
   "id": "9761e1a3-f5b7-4323-a298-15d341f70527",
   "metadata": {},
   "source": [
    "## №8\n",
    "В останньому завдані нам треба вводити години, хвилини і тривалість (в хвилинах). Наше завдання в тому, що наш час має показати години та хвилини в залежності від тривалості. Використовую оператор %. Він обмежує години в межах 0-23 (при % 24), щоб отримати коректний формат годин та дає отримати кількість годин, яку потрібно додати до годин початкового часу (при % 60)."
   ]
  },
  {
   "cell_type": "code",
   "execution_count": 12,
   "id": "8bd1ed58-c359-4e73-9618-cc76fd6af5ec",
   "metadata": {
    "tags": []
   },
   "outputs": [
    {
     "name": "stdin",
     "output_type": "stream",
     "text": [
      "\n",
      "Starting time (hours):  12\n",
      "Starting time (minutes):  17\n",
      "Event duration (minutes):  59\n"
     ]
    },
    {
     "name": "stdout",
     "output_type": "stream",
     "text": [
      "End time: 13:16\n"
     ]
    }
   ],
   "source": [
    "hour = int(input(\"\\nStarting time (hours): \"))\n",
    "mins = int(input(\"Starting time (minutes): \"))\n",
    "dura = int(input(\"Event duration (minutes): \"))\n",
    "end_hour = (hour + (mins + dura) // 60) % 24\n",
    "end_mins = (mins + dura) % 60\n",
    "print(f\"End time: {end_hour:02d}:{end_mins:02d}\")"
   ]
  },
  {
   "cell_type": "markdown",
   "id": "2bfe3b8a-3618-4320-be47-1db771506844",
   "metadata": {},
   "source": [
    "Роблю вивід, форматую до години-хвилини і показували по 2 значення (щоб при виводі 1 години було 01:00 замість 1:0)"
   ]
  },
  {
   "cell_type": "markdown",
   "id": "a8fad21f-123b-4d0f-94a3-2ae33d87a8a3",
   "metadata": {},
   "source": [
    "## Відповіді на котрольні питання\n",
    "1. Результат цього коду: користуавч вводить число, потім при виводі це число множуть на 5. Тобто відповідю буде число користувача збільшене в п'ять разів.\n",
    "2. Результатом цього коду буде вивід типу значення, котре введе користувач."
   ]
  }
 ],
 "metadata": {
  "kernelspec": {
   "display_name": "Python 3 (ipykernel)",
   "language": "python",
   "name": "python3"
  },
  "language_info": {
   "codemirror_mode": {
    "name": "ipython",
    "version": 3
   },
   "file_extension": ".py",
   "mimetype": "text/x-python",
   "name": "python",
   "nbconvert_exporter": "python",
   "pygments_lexer": "ipython3",
   "version": "3.11.4"
  }
 },
 "nbformat": 4,
 "nbformat_minor": 5
}
